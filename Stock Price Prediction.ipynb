{
 "cells": [
  {
   "cell_type": "code",
   "execution_count": 56,
   "id": "ecfd38ce",
   "metadata": {},
   "outputs": [
    {
     "data": {
      "text/html": [
       "        <script type=\"text/javascript\">\n",
       "        window.PlotlyConfig = {MathJaxConfig: 'local'};\n",
       "        if (window.MathJax && window.MathJax.Hub && window.MathJax.Hub.Config) {window.MathJax.Hub.Config({SVG: {font: \"STIX-Web\"}});}\n",
       "        if (typeof require !== 'undefined') {\n",
       "        require.undef(\"plotly\");\n",
       "        requirejs.config({\n",
       "            paths: {\n",
       "                'plotly': ['https://cdn.plot.ly/plotly-2.20.0.min']\n",
       "            }\n",
       "        });\n",
       "        require(['plotly'], function(Plotly) {\n",
       "            window._Plotly = Plotly;\n",
       "        });\n",
       "        }\n",
       "        </script>\n",
       "        "
      ]
     },
     "metadata": {},
     "output_type": "display_data"
    }
   ],
   "source": [
    "import numpy as np\n",
    "import pandas as pd\n",
    "import yfinance as yf\n",
    "import datetime\n",
    "import matplotlib.pyplot as plt\n",
    "import plotly.graph_objects as go\n",
    "from plotly.offline import init_notebook_mode\n",
    "from datetime import date, timedelta\n",
    "from sklearn.model_selection import train_test_split\n",
    "from keras.layers import Dense, LSTM\n",
    "from keras.models import Sequential\n",
    "init_notebook_mode(connected=True)"
   ]
  },
  {
   "cell_type": "code",
   "execution_count": 36,
   "id": "9e5fd3df",
   "metadata": {},
   "outputs": [],
   "source": [
    "start_date = date.today() - timedelta(days=5000)\n",
    "start_date = start_date.strftime(\"%Y-%m-%d\")\n",
    "end_date = date.today().strftime(\"%Y-%m-%d\")"
   ]
  },
  {
   "cell_type": "code",
   "execution_count": 37,
   "id": "8f1cc33b",
   "metadata": {},
   "outputs": [
    {
     "name": "stdout",
     "output_type": "stream",
     "text": [
      "[*********************100%***********************]  1 of 1 completed\n"
     ]
    }
   ],
   "source": [
    "df = yf.download(\"TRY=X\", start=start_date, end=end_date)"
   ]
  },
  {
   "cell_type": "code",
   "execution_count": 39,
   "id": "e1dc941f",
   "metadata": {},
   "outputs": [],
   "source": [
    "df[\"Date\"] = df.index"
   ]
  },
  {
   "cell_type": "code",
   "execution_count": 40,
   "id": "8fd85a5d",
   "metadata": {},
   "outputs": [],
   "source": [
    "df = df.reset_index(drop=True)"
   ]
  },
  {
   "cell_type": "code",
   "execution_count": 31,
   "id": "2f1ed095",
   "metadata": {},
   "outputs": [],
   "source": [
    "fig = go.Figure(data=[go.Candlestick(\n",
    "    x=df[\"Date\"],\n",
    "    open=df[\"Open\"],\n",
    "    high=df[\"High\"],\n",
    "    low=df[\"Low\"],\n",
    "    close=df[\"Close\"],\n",
    ")])\n",
    "\n",
    "fig.show()"
   ]
  },
  {
   "cell_type": "code",
   "execution_count": 42,
   "id": "fbddf756",
   "metadata": {},
   "outputs": [
    {
     "data": {
      "text/plain": [
       "Index(['Open', 'High', 'Low', 'Close', 'Adj Close', 'Volume', 'Date'], dtype='object')"
      ]
     },
     "execution_count": 42,
     "metadata": {},
     "output_type": "execute_result"
    }
   ],
   "source": [
    "df.columns"
   ]
  },
  {
   "cell_type": "code",
   "execution_count": 43,
   "id": "15500171",
   "metadata": {},
   "outputs": [],
   "source": [
    "df = df.drop([\"Adj Close\", \"Date\"], axis=1)"
   ]
  },
  {
   "cell_type": "code",
   "execution_count": 46,
   "id": "223336dd",
   "metadata": {},
   "outputs": [],
   "source": [
    "X = df.drop([\"Close\"], axis=1)\n",
    "X = np.array(X)\n",
    "\n",
    "y = df[\"Close\"]\n",
    "y = np.array(y)"
   ]
  },
  {
   "cell_type": "code",
   "execution_count": 47,
   "id": "53b70ee1",
   "metadata": {},
   "outputs": [],
   "source": [
    "X_train, X_test, y_train, y_test = train_test_split(X, y, test_size=0.2, random_state=4242)"
   ]
  },
  {
   "cell_type": "code",
   "execution_count": 48,
   "id": "3d6badde",
   "metadata": {},
   "outputs": [
    {
     "data": {
      "text/plain": [
       "(2852, 4)"
      ]
     },
     "execution_count": 48,
     "metadata": {},
     "output_type": "execute_result"
    }
   ],
   "source": [
    "X_train.shape"
   ]
  },
  {
   "cell_type": "code",
   "execution_count": 49,
   "id": "08e900ba",
   "metadata": {},
   "outputs": [],
   "source": [
    "model = Sequential([\n",
    "    LSTM(128, return_sequences=True, input_shape=(4, 1)),\n",
    "    LSTM(64, return_sequences=False),\n",
    "    Dense(25),\n",
    "    Dense(1)\n",
    "])\n",
    "\n",
    "model.compile(optimizer=\"adam\", loss=\"mean_squared_error\")"
   ]
  },
  {
   "cell_type": "code",
   "execution_count": 50,
   "id": "286955fc",
   "metadata": {},
   "outputs": [
    {
     "name": "stdout",
     "output_type": "stream",
     "text": [
      "Model: \"sequential\"\n",
      "_________________________________________________________________\n",
      " Layer (type)                Output Shape              Param #   \n",
      "=================================================================\n",
      " lstm (LSTM)                 (None, 4, 128)            66560     \n",
      "                                                                 \n",
      " lstm_1 (LSTM)               (None, 64)                49408     \n",
      "                                                                 \n",
      " dense (Dense)               (None, 25)                1625      \n",
      "                                                                 \n",
      " dense_1 (Dense)             (None, 1)                 26        \n",
      "                                                                 \n",
      "=================================================================\n",
      "Total params: 117,619\n",
      "Trainable params: 117,619\n",
      "Non-trainable params: 0\n",
      "_________________________________________________________________\n"
     ]
    }
   ],
   "source": [
    "model.summary()"
   ]
  },
  {
   "cell_type": "code",
   "execution_count": 51,
   "id": "4e11b638",
   "metadata": {},
   "outputs": [
    {
     "name": "stdout",
     "output_type": "stream",
     "text": [
      "Epoch 1/25\n"
     ]
    },
    {
     "name": "stderr",
     "output_type": "stream",
     "text": [
      "2023-05-25 18:02:43.928577: W tensorflow/tsl/platform/profile_utils/cpu_utils.cc:128] Failed to get CPU frequency: 0 Hz\n"
     ]
    },
    {
     "name": "stdout",
     "output_type": "stream",
     "text": [
      "2852/2852 [==============================] - 5s 1ms/step - loss: 0.6392\n",
      "Epoch 2/25\n",
      "2852/2852 [==============================] - 4s 1ms/step - loss: 0.2280\n",
      "Epoch 3/25\n",
      "2852/2852 [==============================] - 4s 1ms/step - loss: 0.0909\n",
      "Epoch 4/25\n",
      "2852/2852 [==============================] - 4s 1ms/step - loss: 0.0765\n",
      "Epoch 5/25\n",
      "2852/2852 [==============================] - 4s 1ms/step - loss: 0.0603\n",
      "Epoch 6/25\n",
      "2852/2852 [==============================] - 4s 1ms/step - loss: 0.0481\n",
      "Epoch 7/25\n",
      "2852/2852 [==============================] - 4s 1ms/step - loss: 0.0614\n",
      "Epoch 8/25\n",
      "2852/2852 [==============================] - 4s 1ms/step - loss: 0.0369\n",
      "Epoch 9/25\n",
      "2852/2852 [==============================] - 4s 1ms/step - loss: 0.0437\n",
      "Epoch 10/25\n",
      "2852/2852 [==============================] - 4s 1ms/step - loss: 0.0372\n",
      "Epoch 11/25\n",
      "2852/2852 [==============================] - 4s 1ms/step - loss: 0.0343\n",
      "Epoch 12/25\n",
      "2852/2852 [==============================] - 4s 1ms/step - loss: 0.0222\n",
      "Epoch 13/25\n",
      "2852/2852 [==============================] - 4s 1ms/step - loss: 0.0284\n",
      "Epoch 14/25\n",
      "2852/2852 [==============================] - 4s 1ms/step - loss: 0.0350\n",
      "Epoch 15/25\n",
      "2852/2852 [==============================] - 4s 1ms/step - loss: 0.0264\n",
      "Epoch 16/25\n",
      "2852/2852 [==============================] - 4s 1ms/step - loss: 0.0280\n",
      "Epoch 17/25\n",
      "2852/2852 [==============================] - 4s 1ms/step - loss: 0.0216\n",
      "Epoch 18/25\n",
      "2852/2852 [==============================] - 4s 1ms/step - loss: 0.0224\n",
      "Epoch 19/25\n",
      "2852/2852 [==============================] - 4s 1ms/step - loss: 0.0255\n",
      "Epoch 20/25\n",
      "2852/2852 [==============================] - 4s 1ms/step - loss: 0.0211\n",
      "Epoch 21/25\n",
      "2852/2852 [==============================] - 4s 1ms/step - loss: 0.0198\n",
      "Epoch 22/25\n",
      "2852/2852 [==============================] - 4s 1ms/step - loss: 0.0188\n",
      "Epoch 23/25\n",
      "2852/2852 [==============================] - 4s 1ms/step - loss: 0.0293\n",
      "Epoch 24/25\n",
      "2852/2852 [==============================] - 4s 1ms/step - loss: 0.0173\n",
      "Epoch 25/25\n",
      "2852/2852 [==============================] - 4s 1ms/step - loss: 0.0220\n"
     ]
    }
   ],
   "source": [
    "history = model.fit(X_train, y_train, batch_size=1, epochs=25)"
   ]
  },
  {
   "cell_type": "code",
   "execution_count": 52,
   "id": "27d7960e",
   "metadata": {},
   "outputs": [],
   "source": [
    "model.save(\"SPPmodel.h5\")"
   ]
  },
  {
   "cell_type": "code",
   "execution_count": 57,
   "id": "11cee2f9",
   "metadata": {},
   "outputs": [
    {
     "data": {
      "image/png": "[encoded data removed]",
      "text/plain": [
       "<Figure size 640x480 with 1 Axes>"
      ]
     },
     "metadata": {},
     "output_type": "display_data"
    }
   ],
   "source": [
    "plt.figure()\n",
    "plt.plot(history.history[\"loss\"])\n",
    "plt.title(\"Model Loss\")\n",
    "plt.xlabel(\"Epochs\")\n",
    "plt.ylabel(\"Loss\")\n",
    "plt.legend([\"train\"])\n",
    "plt.show()"
   ]
  },
  {
   "cell_type": "code",
   "execution_count": null,
   "id": "b1b64e0a",
   "metadata": {},
   "outputs": [],
   "source": []
  }
 ],
 "metadata": {
  "kernelspec": {
   "display_name": "Python 3 (ipykernel)",
   "language": "python",
   "name": "python3"
  },
  "language_info": {
   "codemirror_mode": {
    "name": "ipython",
    "version": 3
   },
   "file_extension": ".py",
   "mimetype": "text/x-python",
   "name": "python",
   "nbconvert_exporter": "python",
   "pygments_lexer": "ipython3",
   "version": "3.8.16"
  }
 },
 "nbformat": 4,
 "nbformat_minor": 5
}
